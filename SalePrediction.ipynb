{
 "cells": [
  {
   "cell_type": "code",
   "execution_count": 1,
   "metadata": {},
   "outputs": [],
   "source": [
    "import pandas as pd\n",
    "import numpy as np\n",
    "import matplotlib.pyplot as plt"
   ]
  },
  {
   "cell_type": "code",
   "execution_count": 2,
   "metadata": {},
   "outputs": [],
   "source": [
    "train_data= pd.read_csv('./train_v9rqX0R.csv')"
   ]
  },
  {
   "cell_type": "code",
   "execution_count": 3,
   "metadata": {},
   "outputs": [
    {
     "data": {
      "text/html": [
       "<div>\n",
       "<style scoped>\n",
       "    .dataframe tbody tr th:only-of-type {\n",
       "        vertical-align: middle;\n",
       "    }\n",
       "\n",
       "    .dataframe tbody tr th {\n",
       "        vertical-align: top;\n",
       "    }\n",
       "\n",
       "    .dataframe thead th {\n",
       "        text-align: right;\n",
       "    }\n",
       "</style>\n",
       "<table border=\"1\" class=\"dataframe\">\n",
       "  <thead>\n",
       "    <tr style=\"text-align: right;\">\n",
       "      <th></th>\n",
       "      <th>Item_Identifier</th>\n",
       "      <th>Item_Weight</th>\n",
       "      <th>Item_Fat_Content</th>\n",
       "      <th>Item_Visibility</th>\n",
       "      <th>Item_Type</th>\n",
       "      <th>Item_MRP</th>\n",
       "      <th>Outlet_Identifier</th>\n",
       "      <th>Outlet_Establishment_Year</th>\n",
       "      <th>Outlet_Size</th>\n",
       "      <th>Outlet_Location_Type</th>\n",
       "      <th>Outlet_Type</th>\n",
       "      <th>Item_Outlet_Sales</th>\n",
       "    </tr>\n",
       "  </thead>\n",
       "  <tbody>\n",
       "    <tr>\n",
       "      <th>0</th>\n",
       "      <td>FDA15</td>\n",
       "      <td>9.30</td>\n",
       "      <td>Low Fat</td>\n",
       "      <td>0.016047</td>\n",
       "      <td>Dairy</td>\n",
       "      <td>249.8092</td>\n",
       "      <td>OUT049</td>\n",
       "      <td>1999</td>\n",
       "      <td>Medium</td>\n",
       "      <td>Tier 1</td>\n",
       "      <td>Supermarket Type1</td>\n",
       "      <td>3735.1380</td>\n",
       "    </tr>\n",
       "    <tr>\n",
       "      <th>1</th>\n",
       "      <td>DRC01</td>\n",
       "      <td>5.92</td>\n",
       "      <td>Regular</td>\n",
       "      <td>0.019278</td>\n",
       "      <td>Soft Drinks</td>\n",
       "      <td>48.2692</td>\n",
       "      <td>OUT018</td>\n",
       "      <td>2009</td>\n",
       "      <td>Medium</td>\n",
       "      <td>Tier 3</td>\n",
       "      <td>Supermarket Type2</td>\n",
       "      <td>443.4228</td>\n",
       "    </tr>\n",
       "    <tr>\n",
       "      <th>2</th>\n",
       "      <td>FDN15</td>\n",
       "      <td>17.50</td>\n",
       "      <td>Low Fat</td>\n",
       "      <td>0.016760</td>\n",
       "      <td>Meat</td>\n",
       "      <td>141.6180</td>\n",
       "      <td>OUT049</td>\n",
       "      <td>1999</td>\n",
       "      <td>Medium</td>\n",
       "      <td>Tier 1</td>\n",
       "      <td>Supermarket Type1</td>\n",
       "      <td>2097.2700</td>\n",
       "    </tr>\n",
       "    <tr>\n",
       "      <th>3</th>\n",
       "      <td>FDX07</td>\n",
       "      <td>19.20</td>\n",
       "      <td>Regular</td>\n",
       "      <td>0.000000</td>\n",
       "      <td>Fruits and Vegetables</td>\n",
       "      <td>182.0950</td>\n",
       "      <td>OUT010</td>\n",
       "      <td>1998</td>\n",
       "      <td>NaN</td>\n",
       "      <td>Tier 3</td>\n",
       "      <td>Grocery Store</td>\n",
       "      <td>732.3800</td>\n",
       "    </tr>\n",
       "    <tr>\n",
       "      <th>4</th>\n",
       "      <td>NCD19</td>\n",
       "      <td>8.93</td>\n",
       "      <td>Low Fat</td>\n",
       "      <td>0.000000</td>\n",
       "      <td>Household</td>\n",
       "      <td>53.8614</td>\n",
       "      <td>OUT013</td>\n",
       "      <td>1987</td>\n",
       "      <td>High</td>\n",
       "      <td>Tier 3</td>\n",
       "      <td>Supermarket Type1</td>\n",
       "      <td>994.7052</td>\n",
       "    </tr>\n",
       "  </tbody>\n",
       "</table>\n",
       "</div>"
      ],
      "text/plain": [
       "  Item_Identifier  Item_Weight Item_Fat_Content  Item_Visibility  \\\n",
       "0           FDA15         9.30          Low Fat         0.016047   \n",
       "1           DRC01         5.92          Regular         0.019278   \n",
       "2           FDN15        17.50          Low Fat         0.016760   \n",
       "3           FDX07        19.20          Regular         0.000000   \n",
       "4           NCD19         8.93          Low Fat         0.000000   \n",
       "\n",
       "               Item_Type  Item_MRP Outlet_Identifier  \\\n",
       "0                  Dairy  249.8092            OUT049   \n",
       "1            Soft Drinks   48.2692            OUT018   \n",
       "2                   Meat  141.6180            OUT049   \n",
       "3  Fruits and Vegetables  182.0950            OUT010   \n",
       "4              Household   53.8614            OUT013   \n",
       "\n",
       "   Outlet_Establishment_Year Outlet_Size Outlet_Location_Type  \\\n",
       "0                       1999      Medium               Tier 1   \n",
       "1                       2009      Medium               Tier 3   \n",
       "2                       1999      Medium               Tier 1   \n",
       "3                       1998         NaN               Tier 3   \n",
       "4                       1987        High               Tier 3   \n",
       "\n",
       "         Outlet_Type  Item_Outlet_Sales  \n",
       "0  Supermarket Type1          3735.1380  \n",
       "1  Supermarket Type2           443.4228  \n",
       "2  Supermarket Type1          2097.2700  \n",
       "3      Grocery Store           732.3800  \n",
       "4  Supermarket Type1           994.7052  "
      ]
     },
     "execution_count": 3,
     "metadata": {},
     "output_type": "execute_result"
    }
   ],
   "source": [
    "train_data.head()"
   ]
  },
  {
   "cell_type": "code",
   "execution_count": 4,
   "metadata": {},
   "outputs": [
    {
     "data": {
      "text/plain": [
       "Item_Identifier                 0\n",
       "Item_Weight                  1463\n",
       "Item_Fat_Content                0\n",
       "Item_Visibility                 0\n",
       "Item_Type                       0\n",
       "Item_MRP                        0\n",
       "Outlet_Identifier               0\n",
       "Outlet_Establishment_Year       0\n",
       "Outlet_Size                  2410\n",
       "Outlet_Location_Type            0\n",
       "Outlet_Type                     0\n",
       "Item_Outlet_Sales               0\n",
       "dtype: int64"
      ]
     },
     "execution_count": 4,
     "metadata": {},
     "output_type": "execute_result"
    }
   ],
   "source": [
    "train_data.isna().sum()"
   ]
  },
  {
   "cell_type": "code",
   "execution_count": 5,
   "metadata": {},
   "outputs": [],
   "source": [
    "train_data.Item_Weight.fillna(train_data.Item_Weight.mean(),inplace=True)\n",
    "train_data.Outlet_Size.fillna(train_data.Outlet_Size.mode(),inplace=True)"
   ]
  },
  {
   "cell_type": "code",
   "execution_count": 6,
   "metadata": {},
   "outputs": [
    {
     "data": {
      "text/plain": [
       "Item_Identifier               object\n",
       "Item_Weight                  float64\n",
       "Item_Fat_Content              object\n",
       "Item_Visibility              float64\n",
       "Item_Type                     object\n",
       "Item_MRP                     float64\n",
       "Outlet_Identifier             object\n",
       "Outlet_Establishment_Year      int64\n",
       "Outlet_Size                   object\n",
       "Outlet_Location_Type          object\n",
       "Outlet_Type                   object\n",
       "Item_Outlet_Sales            float64\n",
       "dtype: object"
      ]
     },
     "execution_count": 6,
     "metadata": {},
     "output_type": "execute_result"
    }
   ],
   "source": [
    "train_data.dtypes"
   ]
  },
  {
   "cell_type": "code",
   "execution_count": 7,
   "metadata": {},
   "outputs": [],
   "source": [
    "import category_encoders as ce\n",
    "OHE = ce.OneHotEncoder(cols=['Item_Fat_Content',\n",
    "                             'Item_Type',\n",
    "                             'Outlet_Identifier',\n",
    "                             'Outlet_Size',\n",
    "                             'Outlet_Location_Type',\n",
    "                             'Outlet_Type'],use_cat_names=True)\n",
    "# encode the categorical variables\n",
    "train_data = OHE.fit_transform(train_data)"
   ]
  },
  {
   "cell_type": "code",
   "execution_count": 8,
   "metadata": {},
   "outputs": [
    {
     "data": {
      "text/plain": [
       "Item_Identifier                     object\n",
       "Item_Weight                        float64\n",
       "Item_Fat_Content_Low Fat             int64\n",
       "Item_Fat_Content_Regular             int64\n",
       "Item_Fat_Content_low fat             int64\n",
       "Item_Fat_Content_LF                  int64\n",
       "Item_Fat_Content_reg                 int64\n",
       "Item_Visibility                    float64\n",
       "Item_Type_Dairy                      int64\n",
       "Item_Type_Soft Drinks                int64\n",
       "Item_Type_Meat                       int64\n",
       "Item_Type_Fruits and Vegetables      int64\n",
       "Item_Type_Household                  int64\n",
       "Item_Type_Baking Goods               int64\n",
       "Item_Type_Snack Foods                int64\n",
       "Item_Type_Frozen Foods               int64\n",
       "Item_Type_Breakfast                  int64\n",
       "Item_Type_Health and Hygiene         int64\n",
       "Item_Type_Hard Drinks                int64\n",
       "Item_Type_Canned                     int64\n",
       "Item_Type_Breads                     int64\n",
       "Item_Type_Starchy Foods              int64\n",
       "Item_Type_Others                     int64\n",
       "Item_Type_Seafood                    int64\n",
       "Item_MRP                           float64\n",
       "Outlet_Identifier_OUT049             int64\n",
       "Outlet_Identifier_OUT018             int64\n",
       "Outlet_Identifier_OUT010             int64\n",
       "Outlet_Identifier_OUT013             int64\n",
       "Outlet_Identifier_OUT027             int64\n",
       "Outlet_Identifier_OUT045             int64\n",
       "Outlet_Identifier_OUT017             int64\n",
       "Outlet_Identifier_OUT046             int64\n",
       "Outlet_Identifier_OUT035             int64\n",
       "Outlet_Identifier_OUT019             int64\n",
       "Outlet_Establishment_Year            int64\n",
       "Outlet_Size_Medium                   int64\n",
       "Outlet_Size_nan                      int64\n",
       "Outlet_Size_High                     int64\n",
       "Outlet_Size_Small                    int64\n",
       "Outlet_Location_Type_Tier 1          int64\n",
       "Outlet_Location_Type_Tier 3          int64\n",
       "Outlet_Location_Type_Tier 2          int64\n",
       "Outlet_Type_Supermarket Type1        int64\n",
       "Outlet_Type_Supermarket Type2        int64\n",
       "Outlet_Type_Grocery Store            int64\n",
       "Outlet_Type_Supermarket Type3        int64\n",
       "Item_Outlet_Sales                  float64\n",
       "dtype: object"
      ]
     },
     "execution_count": 8,
     "metadata": {},
     "output_type": "execute_result"
    }
   ],
   "source": [
    "train_data.dtypes"
   ]
  },
  {
   "cell_type": "code",
   "execution_count": 9,
   "metadata": {},
   "outputs": [],
   "source": [
    "from sklearn.preprocessing import StandardScaler\n",
    "scaler = StandardScaler()\n",
    "scaler.fit(np.array(train_data.Item_MRP).reshape(-1,1))\n",
    "\n",
    "train_data.Item_MRP= scaler.transform(np.array(train_data.Item_MRP).reshape(-1,1))"
   ]
  },
  {
   "cell_type": "code",
   "execution_count": 10,
   "metadata": {},
   "outputs": [
    {
     "name": "stdout",
     "output_type": "stream",
     "text": [
      "0       1.747454\n",
      "1      -1.489023\n",
      "2       0.010040\n",
      "3       0.660050\n",
      "4      -1.399220\n",
      "          ...   \n",
      "8518    1.180783\n",
      "8519   -0.527301\n",
      "8520   -0.897208\n",
      "8521   -0.607977\n",
      "8522   -1.052261\n",
      "Name: Item_MRP, Length: 8523, dtype: float64\n"
     ]
    }
   ],
   "source": [
    "print(train_data.Item_MRP)"
   ]
  },
  {
   "cell_type": "code",
   "execution_count": 11,
   "metadata": {},
   "outputs": [
    {
     "data": {
      "text/plain": [
       "Item_Identifier                     object\n",
       "Item_Weight                        float64\n",
       "Item_Fat_Content_Low Fat             int64\n",
       "Item_Fat_Content_Regular             int64\n",
       "Item_Fat_Content_low fat             int64\n",
       "Item_Fat_Content_LF                  int64\n",
       "Item_Fat_Content_reg                 int64\n",
       "Item_Visibility                    float64\n",
       "Item_Type_Dairy                      int64\n",
       "Item_Type_Soft Drinks                int64\n",
       "Item_Type_Meat                       int64\n",
       "Item_Type_Fruits and Vegetables      int64\n",
       "Item_Type_Household                  int64\n",
       "Item_Type_Baking Goods               int64\n",
       "Item_Type_Snack Foods                int64\n",
       "Item_Type_Frozen Foods               int64\n",
       "Item_Type_Breakfast                  int64\n",
       "Item_Type_Health and Hygiene         int64\n",
       "Item_Type_Hard Drinks                int64\n",
       "Item_Type_Canned                     int64\n",
       "Item_Type_Breads                     int64\n",
       "Item_Type_Starchy Foods              int64\n",
       "Item_Type_Others                     int64\n",
       "Item_Type_Seafood                    int64\n",
       "Item_MRP                           float64\n",
       "Outlet_Identifier_OUT049             int64\n",
       "Outlet_Identifier_OUT018             int64\n",
       "Outlet_Identifier_OUT010             int64\n",
       "Outlet_Identifier_OUT013             int64\n",
       "Outlet_Identifier_OUT027             int64\n",
       "Outlet_Identifier_OUT045             int64\n",
       "Outlet_Identifier_OUT017             int64\n",
       "Outlet_Identifier_OUT046             int64\n",
       "Outlet_Identifier_OUT035             int64\n",
       "Outlet_Identifier_OUT019             int64\n",
       "Outlet_Establishment_Year            int64\n",
       "Outlet_Size_Medium                   int64\n",
       "Outlet_Size_nan                      int64\n",
       "Outlet_Size_High                     int64\n",
       "Outlet_Size_Small                    int64\n",
       "Outlet_Location_Type_Tier 1          int64\n",
       "Outlet_Location_Type_Tier 3          int64\n",
       "Outlet_Location_Type_Tier 2          int64\n",
       "Outlet_Type_Supermarket Type1        int64\n",
       "Outlet_Type_Supermarket Type2        int64\n",
       "Outlet_Type_Grocery Store            int64\n",
       "Outlet_Type_Supermarket Type3        int64\n",
       "Item_Outlet_Sales                  float64\n",
       "dtype: object"
      ]
     },
     "execution_count": 11,
     "metadata": {},
     "output_type": "execute_result"
    }
   ],
   "source": [
    "train_data.dtypes"
   ]
  },
  {
   "cell_type": "code",
   "execution_count": 12,
   "metadata": {},
   "outputs": [
    {
     "data": {
      "text/plain": [
       "((6818, 46), (6818,), (1705, 46), (1705,))"
      ]
     },
     "execution_count": 12,
     "metadata": {},
     "output_type": "execute_result"
    }
   ],
   "source": [
    "from sklearn.linear_model import LinearRegression\n",
    "from sklearn.ensemble import RandomForestRegressor\n",
    "from sklearn.model_selection import train_test_split\n",
    "from sklearn.metrics import mean_squared_error\n",
    "\n",
    "train_X = train_data.drop(['Item_Identifier','Item_Outlet_Sales'],axis=1)\n",
    "\n",
    "train_Y = train_data['Item_Outlet_Sales']\n",
    "\n",
    "train_x,test_x,train_y,test_y= train_test_split(train_X,train_Y,test_size=0.2,random_state=0)\n",
    "\n",
    "train_x.shape,train_y.shape,test_x.shape,test_y.shape"
   ]
  },
  {
   "cell_type": "code",
   "execution_count": 13,
   "metadata": {},
   "outputs": [
    {
     "name": "stdout",
     "output_type": "stream",
     "text": [
      "RMSE on train 1125.998391717315\n",
      "RMSE on test 1132.739012783331\n"
     ]
    }
   ],
   "source": [
    "model_LR= LinearRegression()\n",
    "\n",
    "model_LR.fit(train_x,train_y)\n",
    "\n",
    "predict_train=model_LR.predict(train_x)\n",
    "predict_test=model_LR.predict(test_x)\n",
    "\n",
    "print('RMSE on train',mean_squared_error(train_y,predict_train)**(0.5))\n",
    "print('RMSE on test',mean_squared_error(test_y,predict_test)**(0.5))"
   ]
  },
  {
   "cell_type": "code",
   "execution_count": 14,
   "metadata": {},
   "outputs": [
    {
     "name": "stdout",
     "output_type": "stream",
     "text": [
      "RMSE on train 908.4688791993618\n",
      "RMSE on test 1099.4058126215448\n"
     ]
    }
   ],
   "source": [
    "model_RF= RandomForestRegressor(max_depth=10)\n",
    "\n",
    "model_RF.fit(train_x,train_y)\n",
    "predict_train= model_RF.predict(train_x)\n",
    "predict_test= model_RF.predict(test_x)\n",
    "\n",
    "print('RMSE on train', mean_squared_error(train_y,predict_train)**(0.5))\n",
    "print('RMSE on test', mean_squared_error(test_y,predict_test)**(0.5))"
   ]
  },
  {
   "cell_type": "code",
   "execution_count": 15,
   "metadata": {},
   "outputs": [
    {
     "data": {
      "text/plain": [
       "<matplotlib.axes._subplots.AxesSubplot at 0x2439644be20>"
      ]
     },
     "execution_count": 15,
     "metadata": {},
     "output_type": "execute_result"
    },
    {
     "data": {
      "image/png": "[encoded data removed]",
      "text/plain": [
       "<Figure size 720x504 with 1 Axes>"
      ]
     },
     "metadata": {
      "needs_background": "light"
     },
     "output_type": "display_data"
    }
   ],
   "source": [
    "plt.figure(figsize=(10,7))\n",
    "feat_importances = pd.Series(model_RF.feature_importances_,index=train_x.columns)\n",
    "feat_importances.nlargest(7).plot(kind='barh')"
   ]
  },
  {
   "cell_type": "code",
   "execution_count": 16,
   "metadata": {},
   "outputs": [
    {
     "name": "stdout",
     "output_type": "stream",
     "text": [
      "RMSE on train 913.6171058222976\n",
      "RMSE on test 1099.0200802780398\n"
     ]
    }
   ],
   "source": [
    "train_x_fi=train_x[['Item_MRP', \n",
    "                    'Outlet_Type_Grocery Store',\n",
    "                    'Item_Visibility',\n",
    "                    'Outlet_Type_Supermarket Type3',\n",
    "                    'Outlet_Identifier_OUT027',\n",
    "                    'Outlet_Establishment_Year',\n",
    "                    'Item_Weight']]\n",
    "test_x_fi=test_x[['Item_MRP', \n",
    "                    'Outlet_Type_Grocery Store',\n",
    "                    'Item_Visibility',\n",
    "                    'Outlet_Type_Supermarket Type3',\n",
    "                    'Outlet_Identifier_OUT027',\n",
    "                    'Outlet_Establishment_Year',\n",
    "                    'Item_Weight']]\n",
    "model_RF_fi=RandomForestRegressor(max_depth=10)\n",
    "model_RF_fi.fit(train_x_fi,train_y)\n",
    "predict_train_fi=model_RF_fi.predict(train_x_fi)\n",
    "predict_test_fi=model_RF_fi.predict(test_x_fi)\n",
    "\n",
    "print('RMSE on train', mean_squared_error(train_y,predict_train_fi)**(0.5))\n",
    "print('RMSE on test', mean_squared_error(test_y,predict_test_fi)**(0.5))"
   ]
  },
  {
   "cell_type": "markdown",
   "metadata": {},
   "source": [
    "This was basic analysis and now we use pipeline to predict the model based on previos learning but from the beginig."
   ]
  },
  {
   "cell_type": "code",
   "execution_count": 17,
   "metadata": {},
   "outputs": [
    {
     "name": "stdout",
     "output_type": "stream",
     "text": [
      "  Item_Identifier  Item_Weight Item_Fat_Content  Item_Visibility  \\\n",
      "0           FDA15         9.30          Low Fat         0.016047   \n",
      "1           DRC01         5.92          Regular         0.019278   \n",
      "2           FDN15        17.50          Low Fat         0.016760   \n",
      "3           FDX07        19.20          Regular         0.000000   \n",
      "4           NCD19         8.93          Low Fat         0.000000   \n",
      "\n",
      "               Item_Type  Item_MRP Outlet_Identifier  \\\n",
      "0                  Dairy  249.8092            OUT049   \n",
      "1            Soft Drinks   48.2692            OUT018   \n",
      "2                   Meat  141.6180            OUT049   \n",
      "3  Fruits and Vegetables  182.0950            OUT010   \n",
      "4              Household   53.8614            OUT013   \n",
      "\n",
      "   Outlet_Establishment_Year Outlet_Size Outlet_Location_Type  \\\n",
      "0                       1999      Medium               Tier 1   \n",
      "1                       2009      Medium               Tier 3   \n",
      "2                       1999      Medium               Tier 1   \n",
      "3                       1998         NaN               Tier 3   \n",
      "4                       1987        High               Tier 3   \n",
      "\n",
      "         Outlet_Type  Item_Outlet_Sales  \n",
      "0  Supermarket Type1          3735.1380  \n",
      "1  Supermarket Type2           443.4228  \n",
      "2  Supermarket Type1          2097.2700  \n",
      "3      Grocery Store           732.3800  \n",
      "4  Supermarket Type1           994.7052  \n"
     ]
    }
   ],
   "source": [
    "import pandas as pd\n",
    "from sklearn.compose import ColumnTransformer\n",
    "from sklearn.impute import SimpleImputer\n",
    "import category_encoders as ce\n",
    "from sklearn.preprocessing import StandardScaler\n",
    "from sklearn.ensemble import RandomForestRegressor\n",
    "from sklearn.pipeline import Pipeline\n",
    "\n",
    "data= pd.read_csv('./train_v9rqX0R.csv')\n",
    "\n",
    "print(data.head(5))\n",
    "\n",
    "train_x= data.drop(columns=['Item_Outlet_Sales'])\n",
    "train_y=data['Item_Outlet_Sales']"
   ]
  },
  {
   "cell_type": "code",
   "execution_count": 18,
   "metadata": {},
   "outputs": [],
   "source": [
    "from sklearn.base import BaseEstimator\n",
    "\n",
    "class OutletTypeEncoder(BaseEstimator):\n",
    "    def __init__(self):\n",
    "        pass\n",
    "    def fit(self,documents,y=None):\n",
    "        return self\n",
    "    def transform(self,x_dataset):\n",
    "        x_dataset['outlet_grocery_store']=(x_dataset['Outlet_Type']=='Grocery Store')*1\n",
    "        x_dataset['outlet_supermarket_3']=(x_dataset['Outlet_Type']=='Supermarket Type3')*1\n",
    "        x_dataset['outlet_identifier_OUT027']=(x_dataset['Outlet_Identifier']=='OUT027')*1\n",
    "        \n",
    "        return x_dataset\n",
    "    "
   ]
  },
  {
   "cell_type": "code",
   "execution_count": 23,
   "metadata": {},
   "outputs": [],
   "source": [
    "pre_process= ColumnTransformer(remainder='passthrough',\n",
    "                              transformers=[('drop_columns','drop',['Item_Identifier',\n",
    "                                                                        'Outlet_Identifier',\n",
    "                                                                        'Item_Fat_Content',\n",
    "                                                                        'Item_Type',\n",
    "                                                                        'Outlet_Identifier',\n",
    "                                                                        'Outlet_Size',\n",
    "                                                                        'Outlet_Location_Type',\n",
    "                                                                        'Outlet_Type']),\n",
    "                                           ('impute_item_weight',SimpleImputer(strategy='mean'),['Item_Weight'])\n",
    "                                           ,('scale_data',StandardScaler(),['Item_MRP'])])"
   ]
  },
  {
   "cell_type": "code",
   "execution_count": 24,
   "metadata": {},
   "outputs": [
    {
     "data": {
      "text/plain": [
       "array([4348.01437159,  693.40276088, 2323.35268531, ..., 1300.83665376,\n",
       "       1508.86795688, 1152.35475793])"
      ]
     },
     "execution_count": 24,
     "metadata": {},
     "output_type": "execute_result"
    }
   ],
   "source": [
    "model_pipeline=Pipeline(steps=[('get_outlet_binary_columns',OutletTypeEncoder()),\n",
    "                               ('pre_processing',pre_process),\n",
    "                               ('random_forest',RandomForestRegressor(max_depth=10,random_state=2))])\n",
    "\n",
    "model_pipeline.fit(train_x,train_y)\n",
    "\n",
    "model_pipeline.predict(train_x)"
   ]
  },
  {
   "cell_type": "code",
   "execution_count": 25,
   "metadata": {},
   "outputs": [
    {
     "data": {
      "text/plain": [
       "array([1646.0548363 , 1305.4298012 ,  649.26184297, ..., 1848.60226305,\n",
       "       3959.67937864, 1384.01466986])"
      ]
     },
     "execution_count": 25,
     "metadata": {},
     "output_type": "execute_result"
    }
   ],
   "source": [
    "test_data= pd.read_csv('./test_AbJTz2l.csv')\n",
    "\n",
    "model_pipeline.predict(test_data)"
   ]
  },
  {
   "cell_type": "code",
   "execution_count": null,
   "metadata": {},
   "outputs": [],
   "source": []
  }
 ],
 "metadata": {
  "kernelspec": {
   "display_name": "Python 3",
   "language": "python",
   "name": "python3"
  },
  "language_info": {
   "codemirror_mode": {
    "name": "ipython",
    "version": 3
   },
   "file_extension": ".py",
   "mimetype": "text/x-python",
   "name": "python",
   "nbconvert_exporter": "python",
   "pygments_lexer": "ipython3",
   "version": "3.8.3"
  }
 },
 "nbformat": 4,
 "nbformat_minor": 4
}
